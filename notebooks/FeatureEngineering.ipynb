{
 "cells": [
  {
   "cell_type": "code",
   "execution_count": 1,
   "metadata": {},
   "outputs": [],
   "source": [
    "import pandas as pd\n",
    "data = pd.read_csv('C:/Users/bam/Downloads/Compressed/data-2024/data.csv')"
   ]
  },
  {
   "cell_type": "code",
   "execution_count": 3,
   "metadata": {},
   "outputs": [
    {
     "name": "stdout",
     "output_type": "stream",
     "text": [
      "Index(['TransactionId', 'BatchId', 'AccountId', 'SubscriptionId', 'CustomerId',\n",
      "       'CurrencyCode', 'CountryCode', 'ProviderId', 'ProductId',\n",
      "       'ProductCategory', 'ChannelId', 'Amount', 'Value',\n",
      "       'TransactionStartTime', 'PricingStrategy', 'FraudResult'],\n",
      "      dtype='object')\n"
     ]
    }
   ],
   "source": [
    "print(data.columns)\n"
   ]
  },
  {
   "cell_type": "code",
   "execution_count": 4,
   "metadata": {},
   "outputs": [],
   "source": [
    "# Create aggregate features for each customer\n",
    "aggregate_features = data.groupby('CustomerId').agg(\n",
    "    total_transaction_amount=('Amount', 'sum'),\n",
    "    average_transaction_amount=('Amount', 'mean'),\n",
    "    transaction_count=('TransactionId', 'count'), \n",
    "    std_dev_transaction_amount=('Amount', 'std')  \n",
    ").reset_index()\n"
   ]
  },
  {
   "cell_type": "code",
   "execution_count": 12,
   "metadata": {},
   "outputs": [],
   "source": [
    "# Convert 'TransactionStartTime' to datetime\n",
    "data['TransactionStartTime'] = pd.to_datetime(data['TransactionStartTime'])\n",
    "\n",
    "# Extract features\n",
    "data['transaction_hour'] = data['TransactionStartTime'].dt.hour\n",
    "data['transaction_day'] = data['TransactionStartTime'].dt.day\n",
    "data['transaction_month'] = data['TransactionStartTime'].dt.month\n",
    "data['transaction_year'] = data['TransactionStartTime'].dt.year"
   ]
  },
  {
   "cell_type": "code",
   "execution_count": 17,
   "metadata": {},
   "outputs": [
    {
     "name": "stdout",
     "output_type": "stream",
     "text": [
      "['TransactionId', 'BatchId', 'AccountId', 'SubscriptionId', 'CustomerId', 'Amount', 'Value', 'TransactionStartTime', 'PricingStrategy', 'FraudResult', 'transaction_hour', 'transaction_day', 'transaction_month', 'transaction_year', 'ProviderId_ProviderId_2', 'ProviderId_ProviderId_3', 'ProviderId_ProviderId_4', 'ProviderId_ProviderId_5', 'ProviderId_ProviderId_6', 'ProductId_ProductId_10', 'ProductId_ProductId_11', 'ProductId_ProductId_12', 'ProductId_ProductId_13', 'ProductId_ProductId_14', 'ProductId_ProductId_15', 'ProductId_ProductId_16', 'ProductId_ProductId_19', 'ProductId_ProductId_2', 'ProductId_ProductId_20', 'ProductId_ProductId_21', 'ProductId_ProductId_22', 'ProductId_ProductId_23', 'ProductId_ProductId_24', 'ProductId_ProductId_27', 'ProductId_ProductId_3', 'ProductId_ProductId_4', 'ProductId_ProductId_5', 'ProductId_ProductId_6', 'ProductId_ProductId_7', 'ProductId_ProductId_8', 'ProductId_ProductId_9', 'ProductCategory_data_bundles', 'ProductCategory_financial_services', 'ProductCategory_movies', 'ProductCategory_other', 'ProductCategory_ticket', 'ProductCategory_transport', 'ProductCategory_tv', 'ProductCategory_utility_bill', 'ChannelId_ChannelId_2', 'ChannelId_ChannelId_3', 'ChannelId_ChannelId_5', 'normalized_amount', 'standardized_amount']\n"
     ]
    }
   ],
   "source": [
    "print(data.columns.tolist())\n"
   ]
  },
  {
   "cell_type": "code",
   "execution_count": 19,
   "metadata": {},
   "outputs": [
    {
     "name": "stdout",
     "output_type": "stream",
     "text": [
      "One-hot encoded columns: ['ChannelId_ChannelId_2', 'ChannelId_ChannelId_3', 'ChannelId_ChannelId_5']\n",
      "Label encoded column: PricingStrategy\n",
      "Label encoded column: FraudResult\n",
      "Transformed DataFrame:\n",
      "         TransactionId         BatchId       AccountId       SubscriptionId  \\\n",
      "0  TransactionId_76871   BatchId_36123  AccountId_3957   SubscriptionId_887   \n",
      "1  TransactionId_73770   BatchId_15642  AccountId_4841  SubscriptionId_3829   \n",
      "2  TransactionId_26203   BatchId_53941  AccountId_4229   SubscriptionId_222   \n",
      "3    TransactionId_380  BatchId_102363   AccountId_648  SubscriptionId_2185   \n",
      "4  TransactionId_28195   BatchId_38780  AccountId_4841  SubscriptionId_3829   \n",
      "\n",
      "        CustomerId   Amount  Value      TransactionStartTime  PricingStrategy  \\\n",
      "0  CustomerId_4406   1000.0   1000 2018-11-15 02:18:49+00:00                2   \n",
      "1  CustomerId_4406    -20.0     20 2018-11-15 02:19:08+00:00                2   \n",
      "2  CustomerId_4683    500.0    500 2018-11-15 02:44:21+00:00                2   \n",
      "3   CustomerId_988  20000.0  21800 2018-11-15 03:32:55+00:00                2   \n",
      "4   CustomerId_988   -644.0    644 2018-11-15 03:34:21+00:00                2   \n",
      "\n",
      "   FraudResult  ...  ProductCategory_other  ProductCategory_ticket  \\\n",
      "0            0  ...                  False                   False   \n",
      "1            0  ...                  False                   False   \n",
      "2            0  ...                  False                   False   \n",
      "3            0  ...                  False                   False   \n",
      "4            0  ...                  False                   False   \n",
      "\n",
      "   ProductCategory_transport  ProductCategory_tv  \\\n",
      "0                      False               False   \n",
      "1                      False               False   \n",
      "2                      False               False   \n",
      "3                      False               False   \n",
      "4                      False               False   \n",
      "\n",
      "   ProductCategory_utility_bill  normalized_amount  standardized_amount  \\\n",
      "0                         False           0.092004            -0.046371   \n",
      "1                         False           0.091910            -0.054643   \n",
      "2                         False           0.091958            -0.050426   \n",
      "3                          True           0.093750             0.107717   \n",
      "4                         False           0.091853            -0.059704   \n",
      "\n",
      "   ChannelId_ChannelId_2_True  ChannelId_ChannelId_3_True  \\\n",
      "0                       False                        True   \n",
      "1                        True                       False   \n",
      "2                       False                        True   \n",
      "3                       False                        True   \n",
      "4                        True                       False   \n",
      "\n",
      "   ChannelId_ChannelId_5_True  \n",
      "0                       False  \n",
      "1                       False  \n",
      "2                       False  \n",
      "3                       False  \n",
      "4                       False  \n",
      "\n",
      "[5 rows x 54 columns]\n"
     ]
    }
   ],
   "source": [
    "from sklearn.preprocessing import LabelEncoder\n",
    "# One-Hot Encoding for existing categorical columns\n",
    "one_hot_columns = ['ChannelId_ChannelId_2', 'ChannelId_ChannelId_3', 'ChannelId_ChannelId_5']\n",
    "\n",
    "# Check for missing columns and apply One-Hot Encoding\n",
    "existing_one_hot_columns = [col for col in one_hot_columns if col in data.columns]\n",
    "if existing_one_hot_columns:\n",
    "    data = pd.get_dummies(data, columns=existing_one_hot_columns, drop_first=True)\n",
    "    print(f\"One-hot encoded columns: {existing_one_hot_columns}\")\n",
    "else:\n",
    "    print(f\"No columns found for one-hot encoding from: {one_hot_columns}\")\n",
    "\n",
    "# Label Encoding for PricingStrategy and FraudResult\n",
    "label_encoder = LabelEncoder()\n",
    "label_encode_columns = ['PricingStrategy', 'FraudResult']\n",
    "\n",
    "for column in label_encode_columns:\n",
    "    if column in data.columns:\n",
    "        data[column] = label_encoder.fit_transform(data[column])\n",
    "        print(f\"Label encoded column: {column}\")\n",
    "    else:\n",
    "        print(f\"Column {column} not found for label encoding.\")\n",
    "\n",
    "# Check the transformed data\n",
    "print(\"Transformed DataFrame:\")\n",
    "print(data.head())"
   ]
  }
 ],
 "metadata": {
  "kernelspec": {
   "display_name": "Python 3",
   "language": "python",
   "name": "python3"
  },
  "language_info": {
   "codemirror_mode": {
    "name": "ipython",
    "version": 3
   },
   "file_extension": ".py",
   "mimetype": "text/x-python",
   "name": "python",
   "nbconvert_exporter": "python",
   "pygments_lexer": "ipython3",
   "version": "3.10.11"
  }
 },
 "nbformat": 4,
 "nbformat_minor": 2
}
