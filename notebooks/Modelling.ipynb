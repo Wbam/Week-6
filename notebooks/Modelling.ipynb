{
 "cells": [
  {
   "cell_type": "code",
   "execution_count": 3,
   "metadata": {},
   "outputs": [],
   "source": [
    "import pandas as pd\n",
    "import numpy as np\n",
    "from sklearn.model_selection import train_test_split, GridSearchCV\n",
    "from sklearn.linear_model import LogisticRegression\n",
    "from sklearn.ensemble import RandomForestClassifier\n",
    "from sklearn.metrics import accuracy_score, precision_score, recall_score, f1_score, roc_auc_score\n"
   ]
  },
  {
   "cell_type": "code",
   "execution_count": 2,
   "metadata": {},
   "outputs": [],
   "source": [
    "# Load the dataset\n",
    "data = pd.read_csv('C:/Users/bam/Desktop/Week-6/notebooks/processed_bati_bank_data.csv')  "
   ]
  },
  {
   "cell_type": "code",
   "execution_count": 7,
   "metadata": {},
   "outputs": [
    {
     "name": "stdout",
     "output_type": "stream",
     "text": [
      "         TransactionId         BatchId       AccountId       SubscriptionId  \\\n",
      "0  TransactionId_76871   BatchId_36123  AccountId_3957   SubscriptionId_887   \n",
      "1  TransactionId_73770   BatchId_15642  AccountId_4841  SubscriptionId_3829   \n",
      "2  TransactionId_26203   BatchId_53941  AccountId_4229   SubscriptionId_222   \n",
      "3    TransactionId_380  BatchId_102363   AccountId_648  SubscriptionId_2185   \n",
      "4  TransactionId_28195   BatchId_38780  AccountId_4841  SubscriptionId_3829   \n",
      "\n",
      "        CustomerId    Amount     Value       TransactionStartTime  \\\n",
      "0  CustomerId_4406 -0.046371 -0.072291  2018-11-15 02:18:49+00:00   \n",
      "1  CustomerId_4406 -0.054643 -0.080251  2018-11-15 02:19:08+00:00   \n",
      "2  CustomerId_4683 -0.050426 -0.076352  2018-11-15 02:44:21+00:00   \n",
      "3   CustomerId_988  0.107717  0.096648  2018-11-15 03:32:55+00:00   \n",
      "4   CustomerId_988 -0.059704 -0.075183  2018-11-15 03:34:21+00:00   \n",
      "\n",
      "   PricingStrategy  FraudResult  ...  ProductCategory_other  \\\n",
      "0                2            0  ...                  False   \n",
      "1                2            0  ...                  False   \n",
      "2                2            0  ...                  False   \n",
      "3                2            0  ...                  False   \n",
      "4                2            0  ...                  False   \n",
      "\n",
      "   ProductCategory_ticket  ProductCategory_transport  ProductCategory_tv  \\\n",
      "0                   False                      False               False   \n",
      "1                   False                      False               False   \n",
      "2                   False                      False               False   \n",
      "3                   False                      False               False   \n",
      "4                   False                      False               False   \n",
      "\n",
      "   ProductCategory_utility_bill  normalized_amount  standardized_amount  \\\n",
      "0                         False           0.092004            -0.046371   \n",
      "1                         False           0.091910            -0.054643   \n",
      "2                         False           0.091958            -0.050426   \n",
      "3                          True           0.093750             0.107717   \n",
      "4                         False           0.091853            -0.059704   \n",
      "\n",
      "   ChannelId_ChannelId_2_True  ChannelId_ChannelId_3_True  \\\n",
      "0                       False                        True   \n",
      "1                        True                       False   \n",
      "2                       False                        True   \n",
      "3                       False                        True   \n",
      "4                        True                       False   \n",
      "\n",
      "   ChannelId_ChannelId_5_True  \n",
      "0                       False  \n",
      "1                       False  \n",
      "2                       False  \n",
      "3                       False  \n",
      "4                       False  \n",
      "\n",
      "[5 rows x 54 columns]\n",
      "Index(['TransactionId', 'BatchId', 'AccountId', 'SubscriptionId', 'CustomerId',\n",
      "       'Amount', 'Value', 'TransactionStartTime', 'PricingStrategy',\n",
      "       'FraudResult', 'transaction_hour', 'transaction_day',\n",
      "       'transaction_month', 'transaction_year', 'ProviderId_ProviderId_2',\n",
      "       'ProviderId_ProviderId_3', 'ProviderId_ProviderId_4',\n",
      "       'ProviderId_ProviderId_5', 'ProviderId_ProviderId_6',\n",
      "       'ProductId_ProductId_10', 'ProductId_ProductId_11',\n",
      "       'ProductId_ProductId_12', 'ProductId_ProductId_13',\n",
      "       'ProductId_ProductId_14', 'ProductId_ProductId_15',\n",
      "       'ProductId_ProductId_16', 'ProductId_ProductId_19',\n",
      "       'ProductId_ProductId_2', 'ProductId_ProductId_20',\n",
      "       'ProductId_ProductId_21', 'ProductId_ProductId_22',\n",
      "       'ProductId_ProductId_23', 'ProductId_ProductId_24',\n",
      "       'ProductId_ProductId_27', 'ProductId_ProductId_3',\n",
      "       'ProductId_ProductId_4', 'ProductId_ProductId_5',\n",
      "       'ProductId_ProductId_6', 'ProductId_ProductId_7',\n",
      "       'ProductId_ProductId_8', 'ProductId_ProductId_9',\n",
      "       'ProductCategory_data_bundles', 'ProductCategory_financial_services',\n",
      "       'ProductCategory_movies', 'ProductCategory_other',\n",
      "       'ProductCategory_ticket', 'ProductCategory_transport',\n",
      "       'ProductCategory_tv', 'ProductCategory_utility_bill',\n",
      "       'normalized_amount', 'standardized_amount',\n",
      "       'ChannelId_ChannelId_2_True', 'ChannelId_ChannelId_3_True',\n",
      "       'ChannelId_ChannelId_5_True'],\n",
      "      dtype='object')\n"
     ]
    }
   ],
   "source": [
    "# Check the DataFrame\n",
    "print(data.head())  \n",
    "print(data.columns)  \n",
    "\n",
    "# Define Features and Target Variable\n",
    "X = data[['Amount', 'Value', 'normalized_amount', 'standardized_amount', 'PricingStrategy', \n",
    "           'transaction_hour', 'transaction_day', 'transaction_month']]  \n",
    "y = data['FraudResult']  \n",
    "\n",
    "# Split the Data\n",
    "X_train, X_test, y_train, y_test = train_test_split(X, y, test_size=0.2, random_state=42)\n"
   ]
  },
  {
   "cell_type": "code",
   "execution_count": 8,
   "metadata": {},
   "outputs": [
    {
     "name": "stdout",
     "output_type": "stream",
     "text": [
      "Logistic Regression Performance:\n",
      "Accuracy: 0.9983797627136362\n",
      "Precision: 0.7777777777777778\n",
      "Recall: 0.19444444444444445\n",
      "F1 Score: 0.3111111111111111\n",
      "ROC-AUC: 0.5971698579765292\n",
      "\n",
      "Random Forest Performance:\n",
      "Accuracy: 0.9997386714054252\n",
      "Precision: 0.8974358974358975\n",
      "Recall: 0.9722222222222222\n",
      "F1 Score: 0.9333333333333333\n",
      "ROC-AUC: 0.9860063826197251\n"
     ]
    }
   ],
   "source": [
    "# Train Logistic Regression Model\n",
    "logistic_model = LogisticRegression()\n",
    "logistic_model.fit(X_train, y_train)\n",
    "\n",
    "# Train Random Forest Model\n",
    "random_forest_model = RandomForestClassifier(random_state=42)\n",
    "random_forest_model.fit(X_train, y_train)\n",
    "\n",
    "# Make Predictions\n",
    "y_pred_logistic = logistic_model.predict(X_test)\n",
    "y_pred_rf = random_forest_model.predict(X_test)\n",
    "\n",
    "# Evaluate the Models\n",
    "print(\"Logistic Regression Performance:\")\n",
    "print(f\"Accuracy: {accuracy_score(y_test, y_pred_logistic)}\")\n",
    "print(f\"Precision: {precision_score(y_test, y_pred_logistic)}\")\n",
    "print(f\"Recall: {recall_score(y_test, y_pred_logistic)}\")\n",
    "print(f\"F1 Score: {f1_score(y_test, y_pred_logistic)}\")\n",
    "print(f\"ROC-AUC: {roc_auc_score(y_test, y_pred_logistic)}\")\n",
    "\n",
    "print(\"\\nRandom Forest Performance:\")\n",
    "print(f\"Accuracy: {accuracy_score(y_test, y_pred_rf)}\")\n",
    "print(f\"Precision: {precision_score(y_test, y_pred_rf)}\")\n",
    "print(f\"Recall: {recall_score(y_test, y_pred_rf)}\")\n",
    "print(f\"F1 Score: {f1_score(y_test, y_pred_rf)}\")\n",
    "print(f\"ROC-AUC: {roc_auc_score(y_test, y_pred_rf)}\")\n"
   ]
  },
  {
   "cell_type": "code",
   "execution_count": 9,
   "metadata": {},
   "outputs": [
    {
     "name": "stdout",
     "output_type": "stream",
     "text": [
      "Best parameters found:  {'max_depth': 10, 'min_samples_split': 5, 'n_estimators': 50}\n",
      "Tuned Random Forest Performance:\n",
      "Accuracy: 0.9997386714054252\n",
      "Precision: 0.918918918918919\n",
      "Recall: 0.9444444444444444\n",
      "F1 Score: 0.9315068493150684\n",
      "ROC-AUC: 0.9721436758536827\n"
     ]
    }
   ],
   "source": [
    "# Hyperparameter Tuning with Grid Search\n",
    "param_grid = {\n",
    "    'n_estimators': [50, 100, 200],\n",
    "    'max_depth': [None, 10, 20, 30],\n",
    "    'min_samples_split': [2, 5, 10]\n",
    "}\n",
    "\n",
    "grid_search = GridSearchCV(estimator=random_forest_model, param_grid=param_grid, \n",
    "                           scoring='accuracy', cv=3, n_jobs=-1)\n",
    "grid_search.fit(X_train, y_train)\n",
    "\n",
    "# Best parameters found\n",
    "print(\"Best parameters found: \", grid_search.best_params_)\n",
    "\n",
    "# Best estimator performance\n",
    "best_rf_model = grid_search.best_estimator_\n",
    "y_pred_best_rf = best_rf_model.predict(X_test)\n",
    "\n",
    "print(\"Tuned Random Forest Performance:\")\n",
    "print(f\"Accuracy: {accuracy_score(y_test, y_pred_best_rf)}\")\n",
    "print(f\"Precision: {precision_score(y_test, y_pred_best_rf)}\")\n",
    "print(f\"Recall: {recall_score(y_test, y_pred_best_rf)}\")\n",
    "print(f\"F1 Score: {f1_score(y_test, y_pred_best_rf)}\")\n",
    "print(f\"ROC-AUC: {roc_auc_score(y_test, y_pred_best_rf)}\")\n"
   ]
  }
 ],
 "metadata": {
  "kernelspec": {
   "display_name": "Python 3",
   "language": "python",
   "name": "python3"
  },
  "language_info": {
   "codemirror_mode": {
    "name": "ipython",
    "version": 3
   },
   "file_extension": ".py",
   "mimetype": "text/x-python",
   "name": "python",
   "nbconvert_exporter": "python",
   "pygments_lexer": "ipython3",
   "version": "3.10.11"
  }
 },
 "nbformat": 4,
 "nbformat_minor": 2
}
